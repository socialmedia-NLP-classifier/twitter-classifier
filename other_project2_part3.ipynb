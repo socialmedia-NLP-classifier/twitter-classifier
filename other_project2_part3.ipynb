{
 "cells": [
  {
   "cell_type": "code",
   "execution_count": 1,
   "metadata": {},
   "outputs": [],
   "source": [
    "# Import necessary libraries in this cell\n",
    "\n",
    "import pandas as pd #pandas is a library for data wrangling/handling\n",
    "import numpy as np #same case for numpy\n",
    "import random\n",
    "\n",
    "# Libraries for helping us with strings\n",
    "import string\n",
    "# Regular Expression Library\n",
    "import re\n",
    "\n",
    "# Seaborn / matplotlib for visualization \n",
    "import seaborn as sns\n",
    "# This command tells python to use seaborn for its styling.\n",
    "sns.set()\n",
    "\n",
    "\n",
    "# Matplotlib is also a very useful, basic visualization/plotting library\n",
    "import matplotlib.pyplot as plt\n",
    "# Very important, this will make your charts appear in your notebook instead of in a new window.\n",
    "%matplotlib inline\n",
    "\n",
    "\n",
    "# Provides z-score helper function,\n",
    "# z-score uses standard deviation to remove outliers\n",
    "# (industry standard is if a data point is 3 std devs away from mean,\n",
    "# it's considered to be an outlier)\n",
    "import scipy.stats as stats\n",
    "\n",
    "\n",
    "# Ignore this, this is just for displaying images.\n",
    "from IPython.display import Image\n",
    "\n",
    "\n",
    "# Importing sklearn library\n",
    "import sklearn\n",
    "\n",
    "# Import the trees from sklearn\n",
    "from sklearn import tree\n",
    "\n",
    "# Metrics help us score our model, using metrics to evaluate our model\n",
    "from sklearn import metrics\n",
    "\n",
    "# Import our Random Forest Classifier\n",
    "from sklearn.ensemble import RandomForestClassifier\n",
    "# Import our Random Forest Regressor\n",
    "from sklearn.ensemble import RandomForestRegressor\n",
    "\n",
    "# Import our text vectorizers\n",
    "from sklearn.feature_extraction.text import CountVectorizer\n",
    "from sklearn.feature_extraction.text import TfidfVectorizer\n",
    "\n",
    "# This is our Logit model\n",
    "from sklearn.linear_model import LogisticRegression\n",
    "# Importing our linear regression model\n",
    "from sklearn.linear_model import LinearRegression\n",
    "\n",
    "# Helper fuctions to evaluate our model from sklearn, including f1_score.\n",
    "from sklearn.metrics import accuracy_score, precision_score, recall_score\n",
    "from sklearn.metrics import f1_score, roc_auc_score\n",
    "# Some more helpful ML function\n",
    "from sklearn.metrics import confusion_matrix, plot_confusion_matrix\n",
    "from sklearn.metrics import classification_report\n",
    "\n",
    "# Helper function to split our data for testing and training purposes\n",
    "from sklearn.model_selection import train_test_split\n",
    "# Helper function for hyper-parameter turning.\n",
    "from sklearn.model_selection import GridSearchCV\n",
    "\n",
    "# Import MultinomaialNB classifier\n",
    "from sklearn.naive_bayes import MultinomialNB\n",
    "\n",
    "# Import our Decision Tree\n",
    "from sklearn.tree import DecisionTreeClassifier\n",
    "\n",
    "from sklearn.svm import SVC\n",
    "\n",
    "\n",
    "# Library for visualizing our tree\n",
    "# If you get an error, \n",
    "# run 'conda install python-graphviz' in your terminal (without the quotes).\n",
    "import graphviz \n",
    "\n",
    "\n",
    "# NLTK is our Natural-Language-Took-Kit\n",
    "import nltk\n",
    "from nltk import word_tokenize\n",
    "from nltk.corpus import stopwords, wordnet\n",
    "from nltk.stem import PorterStemmer, WordNetLemmatizer, SnowballStemmer\n",
    "from nltk.tokenize import RegexpTokenizer\n",
    "\n",
    "# You may need to download these from nltk\n",
    "# nltk.download('stopwords')\n",
    "# nltk.download('punkt')\n",
    "# nltk.download('wordnet')\n",
    "# nltk.download('averaged_perceptron_tagger')\n",
    "stopwords = stopwords.words('english')\n",
    "\n",
    "import pickle"
   ]
  },
  {
   "cell_type": "code",
   "execution_count": 25,
   "metadata": {},
   "outputs": [],
   "source": [
    "# NAME YOUR MODEL \n",
    "filename = 'data1/comments_model.pkl'\n",
    "\n",
    "## HOW TO LOAD IT FOR FUTURE USE\n",
    "df = pickle.load(open(filename, 'rb'))"
   ]
  },
  {
   "cell_type": "code",
   "execution_count": 26,
   "metadata": {},
   "outputs": [
    {
     "name": "stdout",
     "output_type": "stream",
     "text": [
      "[1 -1 0]\n"
     ]
    }
   ],
   "source": [
    "print(df.category.unique())"
   ]
  },
  {
   "cell_type": "code",
   "execution_count": 27,
   "metadata": {},
   "outputs": [],
   "source": [
    "#Seems like good practice to me, creating a single function that will call all\n",
    "# our necessary functions from one place, will be subject to change\n",
    "translator = str.maketrans('', '', string.punctuation)\n",
    "\n",
    "def text_pipeline(input_str):\n",
    "    input_str = remove_profanity(input_str)\n",
    "    return input_str\n",
    "\n",
    "def mk_lower(a):\n",
    "    return a.lower()\n",
    "\n",
    "def remove_stopwords(a):\n",
    "    return \" \".join([word for word in word_tokenize(a) if word not in stopwords])\n",
    "\n",
    "def remove_sp_char(a):\n",
    "    ## \\s for white space, ^ is negation, \\w is words.  so replace all punctutation that follows a word \n",
    "    return a.translate(translator)\n",
    "\n",
    "def remove_sp_char2(a):\n",
    "    return re.sub(r\"[^\\w\\s]\", \"\", a)\n",
    "    \n",
    "    \n",
    "def text_pipeline2(a):\n",
    "    a = mk_lower(a)\n",
    "    a = remove_sp_char(a)\n",
    "    a = remove_stopwords(a)\n",
    "    return a"
   ]
  },
  {
   "cell_type": "code",
   "execution_count": 28,
   "metadata": {},
   "outputs": [
    {
     "name": "stdout",
     "output_type": "stream",
     "text": [
      "[1 0]\n"
     ]
    }
   ],
   "source": [
    "mask1 = df[\"category\"] == -1\n",
    "\n",
    "df.loc[mask1, 'category'] = 0\n",
    "print(df[\"category\"].unique())"
   ]
  },
  {
   "cell_type": "code",
   "execution_count": 29,
   "metadata": {},
   "outputs": [
    {
     "name": "stdout",
     "output_type": "stream",
     "text": [
      "(227016, 2)\n"
     ]
    }
   ],
   "source": [
    "new_df = pd.DataFrame()\n",
    "new_df[\"clean_comment\"] = df[\"clean_comment_profane_free\"].copy()\n",
    "new_df[\"category\"] = df[\"category\"].copy()\n",
    "new_df.dropna(inplace=True)\n",
    "\n",
    "print(new_df.shape)"
   ]
  },
  {
   "cell_type": "code",
   "execution_count": 30,
   "metadata": {},
   "outputs": [
    {
     "name": "stdout",
     "output_type": "stream",
     "text": [
      "Index(['clean_comment', 'category'], dtype='object')\n",
      "[1 0]\n",
      "(227016, 2)\n"
     ]
    }
   ],
   "source": [
    "print(new_df.columns)\n",
    "print(new_df.category.unique())\n",
    "print(new_df.shape)"
   ]
  },
  {
   "cell_type": "code",
   "execution_count": 31,
   "metadata": {},
   "outputs": [],
   "source": [
    "X = new_df[\"clean_comment\"].values\n",
    "y = new_df[\"category\"].values\n",
    "y=y.astype('float')"
   ]
  },
  {
   "cell_type": "code",
   "execution_count": 32,
   "metadata": {},
   "outputs": [
    {
     "name": "stdout",
     "output_type": "stream",
     "text": [
      "(227016, 1769186) <class 'scipy.sparse.csr.csr_matrix'>\n"
     ]
    }
   ],
   "source": [
    "vectorizer = TfidfVectorizer(ngram_range=(1,2))\n",
    "vectorizer.fit(X)\n",
    "\n",
    "X = vectorizer.transform(X)\n",
    "\n",
    "print(X.shape, type(X))\n",
    "\n",
    "X_train, X_test, y_train, y_test = train_test_split(X, y, test_size=0.2, random_state=33)\n"
   ]
  },
  {
   "cell_type": "code",
   "execution_count": 33,
   "metadata": {},
   "outputs": [
    {
     "name": "stdout",
     "output_type": "stream",
     "text": [
      "{'alpha': 0.5}\n"
     ]
    }
   ],
   "source": [
    "params = {\n",
    "    'alpha' : [0.45, 0.5, 0.55]\n",
    "}\n",
    "\n",
    "grid_search_cv = GridSearchCV(\n",
    "    estimator = MultinomialNB(),\n",
    "    param_grid = params,\n",
    "    scoring = 'accuracy'\n",
    ")\n",
    "\n",
    "grid_search_cv.fit(X_train, y_train)\n",
    "print(grid_search_cv.best_params_)\n",
    "\n",
    "model = grid_search_cv.best_estimator_"
   ]
  },
  {
   "cell_type": "code",
   "execution_count": 34,
   "metadata": {},
   "outputs": [],
   "source": [
    "# # Saving the vectorizer \n",
    "# pickle.dump(vectorizer, open('data1/our_vectorizer.pkl', 'wb') )\n",
    "\n",
    "# # Saving the model\n",
    "# pickle.dump(model, open('data1/comments_model.pkl', 'wb'))"
   ]
  },
  {
   "cell_type": "code",
   "execution_count": 120,
   "metadata": {},
   "outputs": [
    {
     "name": "stdout",
     "output_type": "stream",
     "text": [
      "Model Accuracy: 0.773280\n"
     ]
    },
    {
     "data": {
      "text/plain": [
       "<sklearn.metrics._plot.confusion_matrix.ConfusionMatrixDisplay at 0x22e8cf29670>"
      ]
     },
     "execution_count": 120,
     "metadata": {},
     "output_type": "execute_result"
    },
    {
     "data": {
      "image/png": "[encoded data removed]",
      "text/plain": [
       "<Figure size 1152x720 with 2 Axes>"
      ]
     },
     "metadata": {},
     "output_type": "display_data"
    }
   ],
   "source": [
    "# model = MultinomialNB(alpha=.05)\n",
    "# model.fit(X_train, y_train)\n",
    "\n",
    "y_pred = model.predict(X_test)\n",
    "\n",
    "accuracy = model.score(X_test, y_test)\n",
    "\n",
    "print(\"Model Accuracy: %f\" % accuracy)\n",
    "\n",
    "fig, ax = plt.subplots(figsize=(16, 10))\n",
    "\n",
    "disp = plot_confusion_matrix(model, X_test, y_test,\n",
    "                             display_labels=model.classes_,\n",
    "                             cmap=plt.cm.Blues, ax=ax)\n",
    "\n",
    "plt.xticks(rotation=-25)\n",
    "disp"
   ]
  },
  {
   "cell_type": "code",
   "execution_count": 37,
   "metadata": {},
   "outputs": [
    {
     "name": "stdout",
     "output_type": "stream",
     "text": [
      "hello, my name is kukai and do you want to talk about the one and only god, thighs\n",
      "0.0 0.545\n",
      "1.0 0.455\n",
      "meh, indecisive?\n",
      "I hate you you should delete your twitter account\n",
      "0.0 0.813\n",
      "1.0 0.187\n",
      "REJECT\n",
      "thanks for the recent support.  :)\n",
      "0.0 0.288\n",
      "1.0 0.712\n",
      "ACCEPT\n",
      "imagine being called a CONTENT CREATOR with people donating $5 for everything\n",
      "0.0 0.426\n",
      "1.0 0.574\n",
      "meh, indecisive?\n",
      "cafeteria has new good fries\n",
      "0.0 0.593\n",
      "1.0 0.407\n",
      "meh, indecisive?\n",
      " I hate the new cafeteria french fries\n",
      "0.0 0.749\n",
      "1.0 0.251\n",
      "REJECT\n",
      "fuck\n",
      "0.0 0.554\n",
      "1.0 0.446\n",
      "meh, indecisive?\n"
     ]
    }
   ],
   "source": [
    "my_sentences = [\n",
    "\"\"\"hello, my name is kukai and do you want to talk about the one and only god, thighs\"\"\",\n",
    "\"\"\"I hate you you should delete your twitter account\"\"\",\n",
    "\"\"\"thanks for the recent support.  :)\"\"\",\n",
    "\"\"\"imagine being called a CONTENT CREATOR with people donating $5 for everything\"\"\",\n",
    "\"cafeteria has new good fries\",\n",
    "\" I hate the new cafeteria french fries\",\n",
    "\"fuck\"\n",
    "]\n",
    "\n",
    "for sentence in my_sentences:\n",
    "    print(sentence)\n",
    "    # 1. Apply the text pipeline to your sentence\n",
    "    input_text = text_pipeline2(sentence)\n",
    "    # 2. Transform your cleaned text using the `X = vectorizer.transform([your_text])`\\\n",
    "    input_vec = vectorizer.transform([input_text])\n",
    "    # 3. Use the model to predict your new `X`. \n",
    "    model.predict(input_vec)\n",
    "    # 4. Print the prediction\n",
    "    pp = model.predict_proba(input_vec)\n",
    "    p_val = []\n",
    "    for c, p in zip(model.classes_, pp.round(3)[0]):\n",
    "        p_val.append(p)\n",
    "        print(c, p)\n",
    "    if p_val[0] > 0.65:\n",
    "        print(\"REJECT\")\n",
    "    elif p_val[1] > 0.65:\n",
    "        print(\"ACCEPT\")\n",
    "    else:print(\"meh, indecisive?\")\n",
    "    "
   ]
  },
  {
   "cell_type": "code",
   "execution_count": 43,
   "metadata": {},
   "outputs": [
    {
     "name": "stdout",
     "output_type": "stream",
     "text": [
      "done\n"
     ]
    }
   ],
   "source": [
    "#X is the input\n",
    "\n",
    "counter = 0\n",
    "threshold = 100\n",
    "\n",
    "good_dict = dict()\n",
    "bad_dict = dict()\n",
    "indecisive_dict = dict()\n",
    "\n",
    "good_counter = 0\n",
    "bad_counter = 0\n",
    "indecisive_counter = 0\n",
    "\n",
    "good_examples = []\n",
    "bad_examples = []\n",
    "indecisive_examples = []\n",
    "\n",
    "dataset =  df[\"clean_comment2\"].values\n",
    "\n",
    "for sentence in dataset:\n",
    "    counter +=1\n",
    "    if counter > threshold:\n",
    "        break\n",
    "    #print(sentence)\n",
    "    # 1. Apply the text pipeline to your sentence\n",
    "    input_text = text_pipeline2(sentence)\n",
    "    # 2. Transform your cleaned text using the `X = vectorizer.transform([your_text])`\\\n",
    "    input_vec = vectorizer.transform([input_text])\n",
    "    # 3. Use the model to predict your new `X`. \n",
    "    model.predict(input_vec)\n",
    "    # 4. Print the prediction\n",
    "    pp = model.predict_proba(input_vec)\n",
    "    p_val = []\n",
    "    for c, p in zip(model.classes_, pp.round(3)[0]):\n",
    "        p_val.append(p)\n",
    "        #print(c, p)\n",
    "    if p_val[0] > 0.65:\n",
    "        #print(\"REJECT\")\n",
    "        bad_counter+=1\n",
    "        if bad_counter < 100:\n",
    "            bad_examples.append(sentence)\n",
    "        for word in sentence.split():\n",
    "            bad_dict[word] = bad_dict.get(word, 0) + 1\n",
    "        \n",
    "    elif p_val[1] > 0.65:\n",
    "        #print(\"ACCEPT\")\n",
    "        good_counter+=1\n",
    "        if good_counter < 100:\n",
    "            good_examples.append(sentence)\n",
    "        for word in sentence.split():\n",
    "            good_dict[word] = good_dict.get(word, 0) + 1\n",
    "    else:\n",
    "        #print(\"meh, indecisive?\")\n",
    "        indecisive_counter+=1\n",
    "        if indecisive_counter < 100:\n",
    "            indecisive_examples.append(sentence)\n",
    "        for word in sentence.split():\n",
    "            indecisive_dict[word] = indecisive_dict.get(word, 0) + 1\n",
    "\n",
    "print(\"done\")"
   ]
  },
  {
   "cell_type": "code",
   "execution_count": 44,
   "metadata": {},
   "outputs": [
    {
     "name": "stdout",
     "output_type": "stream",
     "text": [
      "dear going difficult keep discussion modi page many glorious commentaries happening mainstream media status improvement gujarat true gujaratis mostly vegetarian spoke guy gurgaon douchey type relocating gujarat mentioned kinda different uncomfortable haryana gujaratis feel state guys gujarati manoos movements\n",
      "********************\n",
      "lets talk elephant room regardless media wants think good bad equation hindu muslims gujrat good worsened improved since\n",
      "********************\n",
      "many flavours buddhism pure land ideas common however important thing realize really matter big difference compared abrahamic religions buddhism dogmatic sense bunch things must taken literally else non believer sinner whatever maybe pure land ideas work great maybe great works works work useless historical buddha taught dramatically different styles suit audience parables metaphors point take literally believing literally physically true zen koans good example purely distilled form stories stories believe physically happened reading history book entirely irrelevant story point wondering really happen place really exist missing point also worth noting things psychological phenomenon physical phenomenon personally find makes buddhist cosmology much easier understand considering competitor physical cosmology conflict different cosmos\n",
      "********************\n",
      "sabarmati waterfront really good maintained properly autorickshaws like cram people max people inside arent safety regulations regarding\n",
      "********************\n",
      "must transitioning new avatar\n",
      "********************\n"
     ]
    }
   ],
   "source": [
    "examples = random.sample(good_examples, 5)\n",
    "\n",
    "for texts in examples:\n",
    "    print(texts)\n",
    "    print( \"*\"*20)"
   ]
  },
  {
   "cell_type": "code",
   "execution_count": 45,
   "metadata": {},
   "outputs": [
    {
     "name": "stdout",
     "output_type": "stream",
     "text": [
      "please downvote thread comments interest state leave alone complaining politics please something constructive ask talk state people instead leaving one liner modi messages\n",
      "********************\n",
      "geez every single post thread downvoted\n",
      "********************\n",
      "impress gujju girl begin\n",
      "********************\n",
      "sit together watch simpsons episode lisa becomes buddhist simpsons season episode little faith discuss\n",
      "********************\n",
      "homebrew setting primary lawful evil deity named friend lewie essentially three domains tyranny law applied without mercy vengeance community idea cruel harsh god also recognizes catch flies honey vinegar thus church often benevolent toward common people day day basis running gag lewian churches sponsor inner city basketball teams major faith probably want change name might make interesting dynamic within setting\n",
      "********************\n"
     ]
    }
   ],
   "source": [
    "examples = random.sample(bad_examples, 5)\n",
    "\n",
    "for texts in examples:\n",
    "    print(texts)\n",
    "    print( \"*\"*20)"
   ]
  },
  {
   "cell_type": "code",
   "execution_count": 46,
   "metadata": {},
   "outputs": [
    {
     "name": "stdout",
     "output_type": "stream",
     "text": [
      "technically could argue sobek evil would represent power also crocodiles whereas also represents fertile land also guy could shapeshift crocodile badass\n",
      "********************\n",
      "supposed swap tso branch order basically switch immediately entering crypt clear crypt max tso piety holy brand best weapon case executioners axe post endgame branch order like whatever theres strict order like early game whichever branch feel best prepared avoid meeting terrible fate hands trog wrath book blink soon leave trog train transloc little bit cast whenever surrounds berserking enemies blink middle run staircase teleport keep scrolls blinking hand purpose feel secure also spell trog wrath includes fire miscasts burn shit see trick going lair rat block still viable rat shield thing combos tedious unnecessary case minotaur retaliatory headbutt would kill rat anyway option antimagic axe carry around viable use since strictly one handed train shields use since shield reflection could use really war axes arent good fantastic selection resists little damage practical choice weapon tough monster wouldnt forgo damage output weapon use physical shield shields arent good melee allruners therse always tsos divine shield ability want reflection isnt good shield brand plus double good tso worshiper reflect poison projectile hits something incur penance use poison\n",
      "********************\n",
      "many big companies gujarat\n",
      "********************\n",
      "know surely statue every bjp ruled state half schemes named couple airports guy like savarkar compared modi small fry\n",
      "********************\n",
      "zarus\n",
      "********************\n"
     ]
    }
   ],
   "source": [
    "examples = random.sample(indecisive_examples, 5)\n",
    "\n",
    "for texts in examples:\n",
    "    print(texts)\n",
    "    print( \"*\"*20)"
   ]
  },
  {
   "cell_type": "code",
   "execution_count": 47,
   "metadata": {},
   "outputs": [
    {
     "name": "stdout",
     "output_type": "stream",
     "text": [
      "<class 'list'>\n",
      "# of words 1317\n"
     ]
    },
    {
     "data": {
      "text/plain": [
       "[('way', 10),\n",
       " ('god', 10),\n",
       " ('something', 10),\n",
       " ('time', 11),\n",
       " ('like', 11),\n",
       " ('jesus', 11),\n",
       " ('different', 11),\n",
       " ('may', 12),\n",
       " ('really', 12),\n",
       " ('also', 13),\n",
       " ('trog', 13),\n",
       " ('mind', 14),\n",
       " ('things', 15),\n",
       " ('good', 15),\n",
       " ('people', 16),\n",
       " ('buddhism', 19),\n",
       " ('buddha', 19),\n",
       " ('one', 21),\n",
       " ('pure', 25),\n",
       " ('land', 29)]"
      ]
     },
     "execution_count": 47,
     "metadata": {},
     "output_type": "execute_result"
    }
   ],
   "source": [
    "# finding the most frequent words\n",
    "\n",
    "sorted_good = sorted(good_dict.items(), key=lambda kv: kv[1])\n",
    "print(type(sorted_good))\n",
    "print(\"# of words\", len(good_dict))\n",
    "sorted_good[-20:]"
   ]
  },
  {
   "cell_type": "code",
   "execution_count": 115,
   "metadata": {},
   "outputs": [
    {
     "data": {
      "text/plain": [
       "<AxesSubplot:title={'center':'Most Frequent Words in Good Comments'}, xlabel='Frequency', ylabel='Common_Good_Words'>"
      ]
     },
     "execution_count": 115,
     "metadata": {},
     "output_type": "execute_result"
    },
    {
     "data": {
      "image/png": "[encoded data removed]",
      "text/plain": [
       "<Figure size 864x576 with 1 Axes>"
      ]
     },
     "metadata": {},
     "output_type": "display_data"
    }
   ],
   "source": [
    "df = pd.DataFrame(sorted_good[-20:], columns = ['Common_Good_Words', 'Frequency'])\n",
    "# df.head()\n",
    "\n",
    "fig, ax = plt.subplots(figsize=(12,8))\n",
    "\n",
    "sns.set_color_codes(\"bright\")\n",
    "goodplot = sns.barplot(x=\"Frequency\", y=\"Common_Good_Words\", data=df,\n",
    "             color=\"b\", )\n",
    "goodplot.set_title(\"Most Frequent Words in Good Comments\")\n",
    "\n",
    "goodplot"
   ]
  },
  {
   "cell_type": "code",
   "execution_count": 49,
   "metadata": {},
   "outputs": [
    {
     "name": "stdout",
     "output_type": "stream",
     "text": [
      "# of words 347\n"
     ]
    },
    {
     "data": {
      "text/plain": [
       "[('day', 3),\n",
       " ('tso', 3),\n",
       " ('branch', 3),\n",
       " ('order', 3),\n",
       " ('weapon', 3),\n",
       " ('trog', 3),\n",
       " ('rat', 3),\n",
       " ('state', 3),\n",
       " ('modi', 3),\n",
       " ('daaru', 3),\n",
       " ('also', 4),\n",
       " ('suffering', 4),\n",
       " ('like', 4),\n",
       " ('good', 4),\n",
       " ('evil', 5),\n",
       " ('god', 5),\n",
       " ('get', 5),\n",
       " ('shield', 5),\n",
       " ('use', 5),\n",
       " ('gujarat', 6)]"
      ]
     },
     "execution_count": 49,
     "metadata": {},
     "output_type": "execute_result"
    }
   ],
   "source": [
    "sorted_med = sorted(indecisive_dict.items(), key=lambda kv: kv[1])\n",
    "print(\"# of words\", len(indecisive_dict))\n",
    "sorted_med[-20:]"
   ]
  },
  {
   "cell_type": "code",
   "execution_count": 116,
   "metadata": {},
   "outputs": [
    {
     "data": {
      "text/plain": [
       "<AxesSubplot:title={'center':'Most Frequent Words in Indecisive Comments'}, xlabel='Frequency', ylabel='Common_Mid_Words'>"
      ]
     },
     "execution_count": 116,
     "metadata": {},
     "output_type": "execute_result"
    },
    {
     "data": {
      "image/png": "[encoded data removed]",
      "text/plain": [
       "<Figure size 864x576 with 1 Axes>"
      ]
     },
     "metadata": {},
     "output_type": "display_data"
    }
   ],
   "source": [
    "# Creating the barplot for middile words\n",
    "\n",
    "df = pd.DataFrame(sorted_med[-20:], columns = ['Common_Mid_Words', 'Frequency'])\n",
    "# df.head()\n",
    "\n",
    "fig, ax = plt.subplots(figsize=(12,8))\n",
    "\n",
    "sns.set_color_codes(\"muted\")\n",
    "midplot = sns.barplot(x=\"Frequency\", y=\"Common_Mid_Words\", data=df,\n",
    "             color=\"g\", )\n",
    "midplot.set_title(\"Most Frequent Words in Indecisive Comments\")\n",
    "\n",
    "midplot\n"
   ]
  },
  {
   "cell_type": "code",
   "execution_count": 50,
   "metadata": {},
   "outputs": [
    {
     "name": "stdout",
     "output_type": "stream",
     "text": [
      "# of words 525\n"
     ]
    },
    {
     "data": {
      "text/plain": [
       "[('much', 3),\n",
       " ('modi', 3),\n",
       " ('worst', 3),\n",
       " ('part', 3),\n",
       " ('least', 3),\n",
       " ('biggest', 3),\n",
       " ('know', 3),\n",
       " ('state', 3),\n",
       " ('crazy', 3),\n",
       " ('like', 4),\n",
       " ('food', 4),\n",
       " ('walsh', 4),\n",
       " ('even', 4),\n",
       " ('want', 5),\n",
       " ('party', 5),\n",
       " ('gujarat', 5),\n",
       " ('evil', 6),\n",
       " ('got', 6),\n",
       " ('one', 7),\n",
       " ('god', 9)]"
      ]
     },
     "execution_count": 50,
     "metadata": {},
     "output_type": "execute_result"
    }
   ],
   "source": [
    "sorted_bad = sorted(bad_dict.items(), key=lambda kv: kv[1])\n",
    "print(\"# of words\", len(bad_dict))\n",
    "sorted_bad[-20:]"
   ]
  },
  {
   "cell_type": "code",
   "execution_count": 117,
   "metadata": {},
   "outputs": [
    {
     "data": {
      "text/plain": [
       "<AxesSubplot:title={'center':'Most Frequent Words in Bad Comments'}, xlabel='Frequency', ylabel='Common_Bad_Words'>"
      ]
     },
     "execution_count": 117,
     "metadata": {},
     "output_type": "execute_result"
    },
    {
     "data": {
      "image/png": "[encoded data removed]",
      "text/plain": [
       "<Figure size 864x576 with 1 Axes>"
      ]
     },
     "metadata": {},
     "output_type": "display_data"
    }
   ],
   "source": [
    "# Creating a bar plot for the sorted_bad words\n",
    "df = pd.DataFrame(sorted_bad[-20:], columns = ['Common_Bad_Words', 'Frequency'])\n",
    "# df.head()\n",
    "\n",
    "fig, ax = plt.subplots(figsize=(12,8))\n",
    "\n",
    "sns.set_color_codes(\"dark\")\n",
    "badplot = sns.barplot(x=\"Frequency\", y=\"Common_Bad_Words\", data=df,\n",
    "             color=\"r\", )\n",
    "badplot.set_title(\"Most Frequent Words in Bad Comments\")\n",
    "\n",
    "badplot"
   ]
  }
 ],
 "metadata": {
  "kernelspec": {
   "display_name": "Python 3",
   "language": "python",
   "name": "python3"
  },
  "language_info": {
   "codemirror_mode": {
    "name": "ipython",
    "version": 3
   },
   "file_extension": ".py",
   "mimetype": "text/x-python",
   "name": "python",
   "nbconvert_exporter": "python",
   "pygments_lexer": "ipython3",
   "version": "3.8.3"
  }
 },
 "nbformat": 4,
 "nbformat_minor": 4
}
