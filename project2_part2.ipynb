{
 "cells": [
  {
   "cell_type": "code",
   "execution_count": 3,
   "metadata": {},
   "outputs": [
    {
     "name": "stderr",
     "output_type": "stream",
     "text": [
      "\n",
      "Bad key \"text.kerning_factor\" on line 4 in\n",
      "C:\\Users\\kukai\\anaconda3\\lib\\site-packages\\matplotlib\\mpl-data\\stylelib\\_classic_test_patch.mplstyle.\n",
      "You probably need to get an updated matplotlibrc file from\n",
      "https://github.com/matplotlib/matplotlib/blob/v3.1.3/matplotlibrc.template\n",
      "or from the matplotlib source distribution\n"
     ]
    }
   ],
   "source": [
    "# Import necessary libraries in this cell\n",
    "import pandas as pd #pandas is a library for data wrangling/handling\n",
    "import numpy as np #same case for numpy\n",
    "import random\n",
    "# Libraries for helping us with strings\n",
    "import string\n",
    "# Regular Expression Library\n",
    "import re\n",
    "\n",
    "# Seaborn / matplotlib for visualization \n",
    "import seaborn as sns\n",
    "# This command tells python to use seaborn for its styling.\n",
    "sns.set()\n",
    "\n",
    "\n",
    "# Matplotlib is also a very useful, basic visualization/plotting library\n",
    "import matplotlib.pyplot as plt\n",
    "# Very important, this will make your charts appear in your notebook instead of in a new window.\n",
    "%matplotlib inline\n",
    "\n",
    "\n",
    "# Provides z-score helper function,\n",
    "# z-score uses standard deviation to remove outliers\n",
    "# (industry standard is if a data point is 3 std devs away from mean,\n",
    "# it's considered to be an outlier)\n",
    "import scipy.stats as stats\n",
    "\n",
    "\n",
    "# Ignore this, this is just for displaying images.\n",
    "from IPython.display import Image\n",
    "\n",
    "\n",
    "# Importing sklearn library\n",
    "import sklearn\n",
    "\n",
    "# Import the trees from sklearn\n",
    "from sklearn import tree\n",
    "\n",
    "# Metrics help us score our model, using metrics to evaluate our model\n",
    "from sklearn import metrics\n",
    "\n",
    "# Import our Random Forest Classifier\n",
    "from sklearn.ensemble import RandomForestClassifier\n",
    "# Import our Random Forest Regressor\n",
    "from sklearn.ensemble import RandomForestRegressor\n",
    "\n",
    "# Import our text vectorizers\n",
    "from sklearn.feature_extraction.text import CountVectorizer\n",
    "from sklearn.feature_extraction.text import TfidfVectorizer\n",
    "\n",
    "# This is our Logit model\n",
    "from sklearn.linear_model import LogisticRegression\n",
    "# Importing our linear regression model\n",
    "from sklearn.linear_model import LinearRegression\n",
    "\n",
    "# Helper fuctions to evaluate our model from sklearn, including f1_score.\n",
    "from sklearn.metrics import accuracy_score, precision_score, recall_score\n",
    "from sklearn.metrics import f1_score, roc_auc_score\n",
    "# Some more helpful ML function\n",
    "from sklearn.metrics import confusion_matrix, plot_confusion_matrix\n",
    "from sklearn.metrics import classification_report\n",
    "\n",
    "# Helper function to split our data for testing and training purposes\n",
    "from sklearn.model_selection import train_test_split\n",
    "# Helper function for hyper-parameter turning.\n",
    "from sklearn.model_selection import GridSearchCV\n",
    "\n",
    "# Import MultinomaialNB classifier\n",
    "from sklearn.naive_bayes import MultinomialNB\n",
    "\n",
    "# Import our Decision Tree\n",
    "from sklearn.tree import DecisionTreeClassifier\n",
    "\n",
    "from sklearn.svm import SVC\n",
    "\n",
    "\n",
    "# Library for visualizing our tree\n",
    "# If you get an error, \n",
    "# run 'conda install python-graphviz' in your terminal (without the quotes).\n",
    "import graphviz \n",
    "\n",
    "\n",
    "# NLTK is our Natural-Language-Took-Kit\n",
    "import nltk\n",
    "\n",
    "from nltk.corpus import stopwords\n",
    "from nltk import word_tokenize\n",
    "from nltk.stem import PorterStemmer\n",
    "from nltk.stem import WordNetLemmatizer\n",
    "from nltk.stem import SnowballStemmer\n",
    "from nltk.corpus import wordnet\n",
    "\n",
    "# You may need to download these from nltk\n",
    "# nltk.download('stopwords')\n",
    "# nltk.download('punkt')\n",
    "# nltk.download('wordnet')\n",
    "stopwords = stopwords.words('english')\n",
    "\n",
    "\n",
    "import pickle"
   ]
  },
  {
   "cell_type": "code",
   "execution_count": 4,
   "metadata": {},
   "outputs": [
    {
     "data": {
      "text/html": [
       "<div>\n",
       "<style scoped>\n",
       "    .dataframe tbody tr th:only-of-type {\n",
       "        vertical-align: middle;\n",
       "    }\n",
       "\n",
       "    .dataframe tbody tr th {\n",
       "        vertical-align: top;\n",
       "    }\n",
       "\n",
       "    .dataframe thead th {\n",
       "        text-align: right;\n",
       "    }\n",
       "</style>\n",
       "<table border=\"1\" class=\"dataframe\">\n",
       "  <thead>\n",
       "    <tr style=\"text-align: right;\">\n",
       "      <th></th>\n",
       "      <th>clean_comment</th>\n",
       "      <th>category</th>\n",
       "      <th>clean_comment_profane_free</th>\n",
       "      <th>cleaned_comment</th>\n",
       "    </tr>\n",
       "  </thead>\n",
       "  <tbody>\n",
       "    <tr>\n",
       "      <th>0</th>\n",
       "      <td>family mormon never tried explain still stare ...</td>\n",
       "      <td>1.0</td>\n",
       "      <td>family never tried explain still stare puzzled...</td>\n",
       "      <td>family mormon never tried explain still stare ...</td>\n",
       "    </tr>\n",
       "    <tr>\n",
       "      <th>1</th>\n",
       "      <td>buddhism much lot compatible christianity espe...</td>\n",
       "      <td>1.0</td>\n",
       "      <td>buddhism much lot compatible christianity espe...</td>\n",
       "      <td>buddhism much lot compatible christianity espe...</td>\n",
       "    </tr>\n",
       "    <tr>\n",
       "      <th>2</th>\n",
       "      <td>seriously say thing first get complex explain ...</td>\n",
       "      <td>-1.0</td>\n",
       "      <td>seriously say thing first get complex explain ...</td>\n",
       "      <td>seriously say thing first get complex explain ...</td>\n",
       "    </tr>\n",
       "    <tr>\n",
       "      <th>3</th>\n",
       "      <td>learned want teach different focus goal wrappi...</td>\n",
       "      <td>0.0</td>\n",
       "      <td>learned want teach different focus goal wrappi...</td>\n",
       "      <td>learned want teach different focus goal wrappi...</td>\n",
       "    </tr>\n",
       "    <tr>\n",
       "      <th>4</th>\n",
       "      <td>benefit may want read living buddha living chr...</td>\n",
       "      <td>1.0</td>\n",
       "      <td>benefit may want read living buddha living thi...</td>\n",
       "      <td>benefit may want read living buddha living chr...</td>\n",
       "    </tr>\n",
       "    <tr>\n",
       "      <th>...</th>\n",
       "      <td>...</td>\n",
       "      <td>...</td>\n",
       "      <td>...</td>\n",
       "      <td>...</td>\n",
       "    </tr>\n",
       "    <tr>\n",
       "      <th>201439</th>\n",
       "      <td>cocky</td>\n",
       "      <td>-1.0</td>\n",
       "      <td></td>\n",
       "      <td>cocky</td>\n",
       "    </tr>\n",
       "    <tr>\n",
       "      <th>201440</th>\n",
       "      <td>transsexual</td>\n",
       "      <td>-1.0</td>\n",
       "      <td></td>\n",
       "      <td>transsexual</td>\n",
       "    </tr>\n",
       "    <tr>\n",
       "      <th>201441</th>\n",
       "      <td>unfuckable</td>\n",
       "      <td>-1.0</td>\n",
       "      <td></td>\n",
       "      <td>unfuckable</td>\n",
       "    </tr>\n",
       "    <tr>\n",
       "      <th>201442</th>\n",
       "      <td>bestiality</td>\n",
       "      <td>-1.0</td>\n",
       "      <td></td>\n",
       "      <td>bestiality</td>\n",
       "    </tr>\n",
       "    <tr>\n",
       "      <th>201443</th>\n",
       "      <td>cocklicker</td>\n",
       "      <td>-1.0</td>\n",
       "      <td></td>\n",
       "      <td>cocklicker</td>\n",
       "    </tr>\n",
       "  </tbody>\n",
       "</table>\n",
       "<p>201444 rows × 4 columns</p>\n",
       "</div>"
      ],
      "text/plain": [
       "                                            clean_comment  category  \\\n",
       "0       family mormon never tried explain still stare ...       1.0   \n",
       "1       buddhism much lot compatible christianity espe...       1.0   \n",
       "2       seriously say thing first get complex explain ...      -1.0   \n",
       "3       learned want teach different focus goal wrappi...       0.0   \n",
       "4       benefit may want read living buddha living chr...       1.0   \n",
       "...                                                   ...       ...   \n",
       "201439                                              cocky      -1.0   \n",
       "201440                                        transsexual      -1.0   \n",
       "201441                                         unfuckable      -1.0   \n",
       "201442                                         bestiality      -1.0   \n",
       "201443                                         cocklicker      -1.0   \n",
       "\n",
       "                               clean_comment_profane_free  \\\n",
       "0       family never tried explain still stare puzzled...   \n",
       "1       buddhism much lot compatible christianity espe...   \n",
       "2       seriously say thing first get complex explain ...   \n",
       "3       learned want teach different focus goal wrappi...   \n",
       "4       benefit may want read living buddha living thi...   \n",
       "...                                                   ...   \n",
       "201439                                                      \n",
       "201440                                                      \n",
       "201441                                                      \n",
       "201442                                                      \n",
       "201443                                                      \n",
       "\n",
       "                                          cleaned_comment  \n",
       "0       family mormon never tried explain still stare ...  \n",
       "1       buddhism much lot compatible christianity espe...  \n",
       "2       seriously say thing first get complex explain ...  \n",
       "3       learned want teach different focus goal wrappi...  \n",
       "4       benefit may want read living buddha living chr...  \n",
       "...                                                   ...  \n",
       "201439                                              cocky  \n",
       "201440                                        transsexual  \n",
       "201441                                         unfuckable  \n",
       "201442                                         bestiality  \n",
       "201443                                         cocklicker  \n",
       "\n",
       "[201444 rows x 4 columns]"
      ]
     },
     "execution_count": 4,
     "metadata": {},
     "output_type": "execute_result"
    }
   ],
   "source": [
    "# NAME YOUR MODEL \n",
    "filename = 'data/comments.pkl'\n",
    "\n",
    "## HOW TO LOAD IT FOR FUTURE USE\n",
    "df = pickle.load(open(filename, 'rb'))\n",
    "\n",
    "df"
   ]
  },
  {
   "cell_type": "code",
   "execution_count": 5,
   "metadata": {},
   "outputs": [],
   "source": [
    "#Seems like good practice to me, creating a single function that will call all\n",
    "# our necessary functions from one place, will be subject to change\n",
    "translator = str.maketrans('', '', string.punctuation)\n",
    "\n",
    "def text_pipeline(input_str):\n",
    "    input_str = remove_profanity(input_str)\n",
    "    return input_str\n",
    "\n",
    "def mk_lower(a):\n",
    "    return a.lower()\n",
    "\n",
    "def remove_stopwords(a):\n",
    "    return \" \".join([word for word in word_tokenize(a) if word not in stopwords])\n",
    "\n",
    "def remove_sp_char(a):\n",
    "    ## \\s for white space, ^ is negation, \\w is words.  so replace all punctutation that follows a word \n",
    "    return a.translate(translator)\n",
    "\n",
    "def remove_sp_char2(a):\n",
    "    return re.sub(r\"[^\\w\\s]\", \"\", a)\n",
    "    \n",
    "    \n",
    "def text_pipeline2(a):\n",
    "    a = mk_lower(a)\n",
    "    a = remove_sp_char(a)\n",
    "    a = remove_stopwords(a)\n",
    "    return a"
   ]
  },
  {
   "cell_type": "code",
   "execution_count": 6,
   "metadata": {},
   "outputs": [
    {
     "name": "stdout",
     "output_type": "stream",
     "text": [
      "[1. 0.]\n"
     ]
    }
   ],
   "source": [
    "mask1 = df[\"category\"] == -1\n",
    "\n",
    "df.loc[mask1, 'category'] = 0\n",
    "print(df[\"category\"].unique())"
   ]
  },
  {
   "cell_type": "code",
   "execution_count": 7,
   "metadata": {},
   "outputs": [
    {
     "name": "stdout",
     "output_type": "stream",
     "text": [
      "(201444, 2)\n"
     ]
    }
   ],
   "source": [
    "new_df = pd.DataFrame()\n",
    "new_df[\"clean_comment\"] = df[\"clean_comment_profane_free\"].copy()\n",
    "new_df[\"category\"] = df[\"category\"].copy()\n",
    "new_df.dropna(inplace=True)\n",
    "\n",
    "print(new_df.shape)"
   ]
  },
  {
   "cell_type": "code",
   "execution_count": 8,
   "metadata": {},
   "outputs": [],
   "source": [
    "\n",
    "\n",
    "X = df[\"clean_comment\"].values\n",
    "y = df[\"category\"].values\n",
    "\n"
   ]
  },
  {
   "cell_type": "code",
   "execution_count": 9,
   "metadata": {},
   "outputs": [],
   "source": [
    "vectorizer = TfidfVectorizer(ngram_range=(1,3))\n",
    "vectorizer.fit(X)\n",
    "\n",
    "X = vectorizer.transform(X)\n",
    "\n",
    "\n",
    "X_train, X_test, y_train, y_test = train_test_split(X, y, test_size=0.2, random_state=33)"
   ]
  },
  {
   "cell_type": "code",
   "execution_count": 10,
   "metadata": {},
   "outputs": [
    {
     "name": "stdout",
     "output_type": "stream",
     "text": [
      "Model Accuracy: 0.765469\n"
     ]
    },
    {
     "data": {
      "text/plain": [
       "<sklearn.metrics._plot.confusion_matrix.ConfusionMatrixDisplay at 0x2323fc2df08>"
      ]
     },
     "execution_count": 10,
     "metadata": {},
     "output_type": "execute_result"
    },
    {
     "data": {
      "image/png": "[encoded data removed]",
      "text/plain": [
       "<Figure size 1512x1512 with 2 Axes>"
      ]
     },
     "metadata": {
      "needs_background": "light"
     },
     "output_type": "display_data"
    }
   ],
   "source": [
    "model = MultinomialNB(alpha=.05)\n",
    "model.fit(X_train, y_train)\n",
    "\n",
    "\n",
    "y_pred = model.predict(X_test)\n",
    "\n",
    "accuracy = model.score(X_test, y_test)\n",
    "\n",
    "print(\"Model Accuracy: %f\" % accuracy)\n",
    "\n",
    "fig, ax = plt.subplots(figsize=(21, 21))\n",
    "\n",
    "disp = plot_confusion_matrix(model, X_test, y_test,\n",
    "                             display_labels=model.classes_,\n",
    "                             cmap=plt.cm.Blues, ax=ax)\n",
    "plt.xticks(rotation=-25)\n",
    "disp"
   ]
  },
  {
   "cell_type": "code",
   "execution_count": 11,
   "metadata": {},
   "outputs": [
    {
     "name": "stdout",
     "output_type": "stream",
     "text": [
      "hello, my name is kukai and do you want to talk about the one and only god, thighs\n",
      "0.0 0.194\n",
      "1.0 0.806\n",
      "ACCEPT\n",
      "I hate you you should delete your twitter account\n",
      "0.0 0.85\n",
      "1.0 0.15\n",
      "REJECT\n",
      "thanks for the recent support.  :)\n",
      "0.0 0.27\n",
      "1.0 0.73\n",
      "ACCEPT\n",
      "imagine being called a CONTENT CREATOR with people donating $5 for everything\n",
      "0.0 0.737\n",
      "1.0 0.263\n",
      "REJECT\n",
      "cafeteria has new good fries\n",
      "0.0 0.417\n",
      "1.0 0.583\n",
      "meh, indecisive?\n",
      " I hate the new cafeteria french fries\n",
      "0.0 0.837\n",
      "1.0 0.163\n",
      "REJECT\n",
      "fuck\n",
      "0.0 0.871\n",
      "1.0 0.129\n",
      "REJECT\n",
      "redbull gives you wings\n",
      "0.0 0.484\n",
      "1.0 0.516\n",
      "meh, indecisive?\n"
     ]
    }
   ],
   "source": [
    "my_sentences = [\n",
    "\"\"\"hello, my name is kukai and do you want to talk about the one and only god, thighs\"\"\",\n",
    "\"\"\"I hate you you should delete your twitter account\"\"\",\n",
    "\"\"\"thanks for the recent support.  :)\"\"\",\n",
    "\"\"\"imagine being called a CONTENT CREATOR with people donating $5 for everything\"\"\",\n",
    "\"cafeteria has new good fries\",\n",
    "\" I hate the new cafeteria french fries\",\n",
    "\"fuck\",\n",
    "\"redbull gives you wings\",\n",
    "\n",
    "]\n",
    "\n",
    "for sentence in my_sentences:\n",
    "    print(sentence)\n",
    "    # 1. Apply the text pipeline to your sentence\n",
    "    input_text = text_pipeline2(sentence)\n",
    "    # 2. Transform your cleaned text using the `X = vectorizer.transform([your_text])`\\\n",
    "    input_vec = vectorizer.transform([input_text])\n",
    "    # 3. Use the model to predict your new `X`. \n",
    "    model.predict(input_vec)\n",
    "    # 4. Print the prediction\n",
    "    pp = model.predict_proba(input_vec)\n",
    "    p_val = []\n",
    "    for c, p in zip(model.classes_, pp.round(3)[0]):\n",
    "        p_val.append(p)\n",
    "        print(c, p)\n",
    "    if p_val[0] > 0.65:\n",
    "        print(\"REJECT\")\n",
    "    elif p_val[1] > 0.65:\n",
    "        print(\"ACCEPT\")\n",
    "    else:print(\"meh, indecisive?\")\n",
    "    "
   ]
  },
  {
   "cell_type": "code",
   "execution_count": null,
   "metadata": {},
   "outputs": [],
   "source": []
  },
  {
   "cell_type": "code",
   "execution_count": 12,
   "metadata": {},
   "outputs": [
    {
     "name": "stdout",
     "output_type": "stream",
     "text": [
      "done\n"
     ]
    }
   ],
   "source": [
    "#X is the input\n",
    "\n",
    "counter = 0\n",
    "threshold = 100\n",
    "\n",
    "good_dict = dict()\n",
    "bad_dict = dict()\n",
    "indecisive_dict = dict()\n",
    "\n",
    "good_counter = 0\n",
    "bad_counter = 0\n",
    "indecisive_counter = 0\n",
    "\n",
    "good_examples = []\n",
    "bad_examples = []\n",
    "indecisive_examples = []\n",
    "\n",
    "dataset =  df[\"clean_comment\"].values\n",
    "\n",
    "for sentence in dataset:\n",
    "    counter +=1\n",
    "    if counter > threshold:\n",
    "        break\n",
    "    #print(sentence)\n",
    "    # 1. Apply the text pipeline to your sentence\n",
    "    input_text = text_pipeline2(sentence)\n",
    "    # 2. Transform your cleaned text using the `X = vectorizer.transform([your_text])`\\\n",
    "    input_vec = vectorizer.transform([input_text])\n",
    "    # 3. Use the model to predict your new `X`. \n",
    "    model.predict(input_vec)\n",
    "    # 4. Print the prediction\n",
    "    pp = model.predict_proba(input_vec)\n",
    "    p_val = []\n",
    "    for c, p in zip(model.classes_, pp.round(3)[0]):\n",
    "        p_val.append(p)\n",
    "        #print(c, p)\n",
    "    if p_val[0] > 0.65:\n",
    "        #print(\"REJECT\")\n",
    "        bad_counter+=1\n",
    "        if bad_counter < 100:\n",
    "            bad_examples.append(sentence)\n",
    "        for word in sentence.split():\n",
    "            bad_dict[word] = bad_dict.get(word, 0) + 1\n",
    "        \n",
    "    elif p_val[1] > 0.65:\n",
    "        #print(\"ACCEPT\")\n",
    "        good_counter+=1\n",
    "        if good_counter < 100:\n",
    "            good_examples.append(sentence)\n",
    "        for word in sentence.split():\n",
    "            good_dict[word] = good_dict.get(word, 0) + 1\n",
    "    else:\n",
    "        #print(\"meh, indecisive?\")\n",
    "        indecisive_counter+=1\n",
    "        if indecisive_counter < 100:\n",
    "            indecisive_examples.append(sentence)\n",
    "        for word in sentence.split():\n",
    "            indecisive_dict[word] = indecisive_dict.get(word, 0) + 1\n",
    "\n",
    "print(\"done\")"
   ]
  },
  {
   "cell_type": "code",
   "execution_count": 13,
   "metadata": {},
   "outputs": [
    {
     "name": "stdout",
     "output_type": "stream",
     "text": [
      "pure land power opposed usual self power taught buddhist schools though pure land dimension afterlife\n",
      "********************\n",
      "first impressions buddhism devoid dogma good thing buddhism least outsider much easier pick choose parts want use see dogma kind environment habitat profound useful ideas develop religions something useful buddhist religions one homogeneous buddhism seem something relevant powerful context culture\n",
      "********************\n",
      "heard due booze policy women feel much safer night gujarat true addiction fried snacks must visit places\n",
      "********************\n",
      "technically could argue sobek evil would represent power also crocodiles whereas also represents fertile land also guy could shapeshift crocodile badass\n",
      "********************\n",
      "brother trog wrathful indeed destroy neither endless inevitable going take route many find easy way say getting past trog level trivial wrath dangerous open able choose area diluted mere timesink must grab closest disintegration wand cut two diagnols wall allow view one tile time point simply need make sure good chunks permafood pip two either drop scrolls wear conservation point spam rest tab every time trog tantrum minotaur power trouble killing summons long get message saying calmed free worship damned tso trog wrath level probably one least dangerous things spend time dealing willing cheese\n",
      "********************\n"
     ]
    }
   ],
   "source": [
    "examples = random.sample(good_examples, 5)\n",
    "\n",
    "for texts in examples:\n",
    "    print(texts)\n",
    "    print( \"*\"*20)"
   ]
  },
  {
   "cell_type": "code",
   "execution_count": 14,
   "metadata": {},
   "outputs": [
    {
     "name": "stdout",
     "output_type": "stream",
     "text": [
      "name shall lump wherever lumps warts tree burls breasts humpback whales\n",
      "********************\n",
      "jbdbx28pxga\n",
      "********************\n",
      "mean ruling coalition government hatch scheme assassinate biggest political rival months next national election blame incident muslim terrorism yea also prepare witness biggest religious genocide history india\n",
      "********************\n",
      "tea partier expresses support namo eating idli sambar conservative indian american group indiatribune com submitted minutes ago ladki realize hate modi showed casual racism idli sambhar snide remark another thought fuck\n",
      "********************\n",
      "pelor burning hate also hextor boss god tyranny conquest always fun think one books god lawyers\n",
      "********************\n"
     ]
    }
   ],
   "source": [
    "examples = random.sample(bad_examples, 5)\n",
    "\n",
    "for texts in examples:\n",
    "    print(texts)\n",
    "    print( \"*\"*20)"
   ]
  },
  {
   "cell_type": "code",
   "execution_count": 15,
   "metadata": {},
   "outputs": [
    {
     "name": "stdout",
     "output_type": "stream",
     "text": [
      "limited knowledge pure land paradise place contemplation stepping point given knowledge leave cycle suffering rebirth anything akin defunct catholic idea purgatory actual heaven\n",
      "********************\n",
      "know gujjus big veg food least one gujju non veg dish worth trying edit retards going downvote least decency tell reason\n",
      "********************\n",
      "learned want teach different focus goal wrapping paper buddhism passed others without word buddha\n",
      "********************\n",
      "teens discovered zen meditation undiagnosed bpd homeschooled gotten 56k modem web connection came across link zen meditation tried couple weeks change palpable felt profound sense peace ever felt grades immediately started going energy started martial arts huge positive change around parents asked something wrong fundie parents anything changes naiveté kicked foolishly told trying meditation really calmed thought happy found something helped never forget happened next mother affected mockingly calm breathy voice said pretend calm happy want without jesus never content moment belief christian faith vanished completely realized probably never happy ever never felt profoundly sorry someone moment\n",
      "********************\n",
      "zarus\n",
      "********************\n"
     ]
    }
   ],
   "source": [
    "examples = random.sample(indecisive_examples, 5)\n",
    "\n",
    "for texts in examples:\n",
    "    print(texts)\n",
    "    print( \"*\"*20)"
   ]
  },
  {
   "cell_type": "code",
   "execution_count": 16,
   "metadata": {},
   "outputs": [
    {
     "name": "stdout",
     "output_type": "stream",
     "text": [
      "<class 'list'>\n",
      "# of words 1399\n"
     ]
    },
    {
     "data": {
      "text/plain": [
       "[('would', 11),\n",
       " ('could', 11),\n",
       " ('may', 11),\n",
       " ('different', 11),\n",
       " ('state', 11),\n",
       " ('god', 12),\n",
       " ('really', 12),\n",
       " ('gujarat', 13),\n",
       " ('like', 14),\n",
       " ('things', 14),\n",
       " ('mind', 14),\n",
       " ('also', 16),\n",
       " ('people', 16),\n",
       " ('trog', 16),\n",
       " ('buddhism', 19),\n",
       " ('buddha', 19),\n",
       " ('good', 19),\n",
       " ('one', 23),\n",
       " ('pure', 25),\n",
       " ('land', 30)]"
      ]
     },
     "execution_count": 16,
     "metadata": {},
     "output_type": "execute_result"
    }
   ],
   "source": [
    "# finding the most frequent words\n",
    "\n",
    "\n",
    "sorted_good = sorted(good_dict.items(), key=lambda kv: kv[1])\n",
    "print(type(sorted_good))\n",
    "print(\"# of words\", len(good_dict))\n",
    "sorted_good[-20:]"
   ]
  },
  {
   "cell_type": "code",
   "execution_count": 17,
   "metadata": {},
   "outputs": [
    {
     "name": "stdout",
     "output_type": "stream",
     "text": [
      "# of words 183\n"
     ]
    },
    {
     "data": {
      "text/plain": [
       "[('trying', 2),\n",
       " ('calm', 2),\n",
       " ('said', 2),\n",
       " ('moment', 2),\n",
       " ('knowledge', 2),\n",
       " ('joe', 2),\n",
       " ('’', 2),\n",
       " ('white', 2),\n",
       " ('party', 2),\n",
       " ('sum', 2),\n",
       " ('day', 2),\n",
       " ('gujju', 2),\n",
       " ('veg', 2),\n",
       " ('least', 2),\n",
       " ('meditation', 3),\n",
       " ('felt', 3),\n",
       " ('something', 3),\n",
       " ('happy', 3),\n",
       " ('never', 4),\n",
       " ('walsh', 4)]"
      ]
     },
     "execution_count": 17,
     "metadata": {},
     "output_type": "execute_result"
    }
   ],
   "source": [
    "sorted_med = sorted(indecisive_dict.items(), key=lambda kv: kv[1])\n",
    "print(\"# of words\", len(indecisive_dict))\n",
    "sorted_med[-20:]"
   ]
  },
  {
   "cell_type": "code",
   "execution_count": 18,
   "metadata": {},
   "outputs": [
    {
     "name": "stdout",
     "output_type": "stream",
     "text": [
      "# of words 565\n"
     ]
    },
    {
     "data": {
      "text/plain": [
       "[('worst', 3),\n",
       " ('part', 3),\n",
       " ('biggest', 3),\n",
       " ('gujaratis', 3),\n",
       " ('crazy', 3),\n",
       " ('people', 4),\n",
       " ('hate', 4),\n",
       " ('also', 4),\n",
       " ('day', 4),\n",
       " ('want', 4),\n",
       " ('modi', 4),\n",
       " ('state', 4),\n",
       " ('like', 5),\n",
       " ('get', 6),\n",
       " ('even', 6),\n",
       " ('got', 6),\n",
       " ('gujarat', 6),\n",
       " ('one', 7),\n",
       " ('evil', 9),\n",
       " ('god', 12)]"
      ]
     },
     "execution_count": 18,
     "metadata": {},
     "output_type": "execute_result"
    }
   ],
   "source": [
    "sorted_bad = sorted(bad_dict.items(), key=lambda kv: kv[1])\n",
    "print(\"# of words\", len(bad_dict))\n",
    "sorted_bad[-20:]"
   ]
  },
  {
   "cell_type": "code",
   "execution_count": null,
   "metadata": {},
   "outputs": [],
   "source": []
  }
 ],
 "metadata": {
  "kernelspec": {
   "display_name": "Python 3",
   "language": "python",
   "name": "python3"
  },
  "language_info": {
   "codemirror_mode": {
    "name": "ipython",
    "version": 3
   },
   "file_extension": ".py",
   "mimetype": "text/x-python",
   "name": "python",
   "nbconvert_exporter": "python",
   "pygments_lexer": "ipython3",
   "version": "3.7.6"
  }
 },
 "nbformat": 4,
 "nbformat_minor": 4
}
