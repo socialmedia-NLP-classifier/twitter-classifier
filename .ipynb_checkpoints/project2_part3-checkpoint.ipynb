{
 "cells": [
  {
   "cell_type": "code",
   "execution_count": 113,
   "metadata": {},
   "outputs": [],
   "source": [
    "# Import necessary libraries in this cell\n",
    "\n",
    "import pandas as pd #pandas is a library for data wrangling/handling\n",
    "import numpy as np #same case for numpy\n",
    "\n",
    "# Libraries for helping us with strings\n",
    "import string\n",
    "# Regular Expression Library\n",
    "import re\n",
    "\n",
    "# Seaborn / matplotlib for visualization \n",
    "import seaborn as sns\n",
    "# This command tells python to use seaborn for its styling.\n",
    "sns.set()\n",
    "\n",
    "\n",
    "# Matplotlib is also a very useful, basic visualization/plotting library\n",
    "import matplotlib.pyplot as plt\n",
    "# Very important, this will make your charts appear in your notebook instead of in a new window.\n",
    "%matplotlib inline\n",
    "\n",
    "\n",
    "# Provides z-score helper function,\n",
    "# z-score uses standard deviation to remove outliers\n",
    "# (industry standard is if a data point is 3 std devs away from mean,\n",
    "# it's considered to be an outlier)\n",
    "import scipy.stats as stats\n",
    "\n",
    "\n",
    "# Ignore this, this is just for displaying images.\n",
    "from IPython.display import Image\n",
    "\n",
    "\n",
    "# Importing sklearn library\n",
    "import sklearn\n",
    "\n",
    "# Import the trees from sklearn\n",
    "from sklearn import tree\n",
    "\n",
    "# Metrics help us score our model, using metrics to evaluate our model\n",
    "from sklearn import metrics\n",
    "\n",
    "# Import our Random Forest Classifier\n",
    "from sklearn.ensemble import RandomForestClassifier\n",
    "# Import our Random Forest Regressor\n",
    "from sklearn.ensemble import RandomForestRegressor\n",
    "\n",
    "# Import our text vectorizers\n",
    "from sklearn.feature_extraction.text import CountVectorizer\n",
    "from sklearn.feature_extraction.text import TfidfVectorizer\n",
    "\n",
    "# This is our Logit model\n",
    "from sklearn.linear_model import LogisticRegression\n",
    "# Importing our linear regression model\n",
    "from sklearn.linear_model import LinearRegression\n",
    "\n",
    "# Helper fuctions to evaluate our model from sklearn, including f1_score.\n",
    "from sklearn.metrics import accuracy_score, precision_score, recall_score\n",
    "from sklearn.metrics import f1_score, roc_auc_score\n",
    "# Some more helpful ML function\n",
    "from sklearn.metrics import confusion_matrix, plot_confusion_matrix\n",
    "from sklearn.metrics import classification_report\n",
    "\n",
    "# Helper function to split our data for testing and training purposes\n",
    "from sklearn.model_selection import train_test_split\n",
    "# Helper function for hyper-parameter turning.\n",
    "from sklearn.model_selection import GridSearchCV\n",
    "\n",
    "# Import MultinomaialNB classifier\n",
    "from sklearn.naive_bayes import MultinomialNB\n",
    "\n",
    "# Import our Decision Tree\n",
    "from sklearn.tree import DecisionTreeClassifier\n",
    "\n",
    "from sklearn.svm import SVC\n",
    "\n",
    "\n",
    "# Library for visualizing our tree\n",
    "# If you get an error, \n",
    "# run 'conda install python-graphviz' in your terminal (without the quotes).\n",
    "import graphviz \n",
    "\n",
    "\n",
    "# NLTK is our Natural-Language-Took-Kit\n",
    "import nltk\n",
    "from nltk import word_tokenize\n",
    "from nltk.corpus import stopwords, wordnet\n",
    "from nltk.stem import PorterStemmer, WordNetLemmatizer, SnowballStemmer\n",
    "from nltk.tokenize import RegexpTokenizer\n",
    "\n",
    "# You may need to download these from nltk\n",
    "# nltk.download('stopwords')\n",
    "# nltk.download('punkt')\n",
    "# nltk.download('wordnet')\n",
    "# nltk.download('averaged_perceptron_tagger')\n",
    "stopwords = stopwords.words('english')\n",
    "\n",
    "import pickle"
   ]
  },
  {
   "cell_type": "code",
   "execution_count": 114,
   "metadata": {},
   "outputs": [],
   "source": [
    "# NAME YOUR MODEL \n",
    "filename = 'data1/comments.pkl'\n",
    "\n",
    "## HOW TO LOAD IT FOR FUTURE USE\n",
    "df = pickle.load(open(filename, 'rb'))"
   ]
  },
  {
   "cell_type": "code",
   "execution_count": 115,
   "metadata": {},
   "outputs": [
    {
     "name": "stdout",
     "output_type": "stream",
     "text": [
      "[1 -1 0]\n"
     ]
    }
   ],
   "source": [
    "print(df.category.unique())"
   ]
  },
  {
   "cell_type": "code",
   "execution_count": 116,
   "metadata": {},
   "outputs": [],
   "source": [
    "#Seems like good practice to me, creating a single function that will call all\n",
    "# our necessary functions from one place, will be subject to change\n",
    "translator = str.maketrans('', '', string.punctuation)\n",
    "\n",
    "def text_pipeline(input_str):\n",
    "    input_str = remove_profanity(input_str)\n",
    "    return input_str\n",
    "\n",
    "def mk_lower(a):\n",
    "    return a.lower()\n",
    "\n",
    "def remove_stopwords(a):\n",
    "    return \" \".join([word for word in word_tokenize(a) if word not in stopwords])\n",
    "\n",
    "def remove_sp_char(a):\n",
    "    ## \\s for white space, ^ is negation, \\w is words.  so replace all punctutation that follows a word \n",
    "    return a.translate(translator)\n",
    "\n",
    "def remove_sp_char2(a):\n",
    "    return re.sub(r\"[^\\w\\s]\", \"\", a)\n",
    "    \n",
    "    \n",
    "def text_pipeline2(a):\n",
    "    a = mk_lower(a)\n",
    "    a = remove_sp_char(a)\n",
    "    a = remove_stopwords(a)\n",
    "    return a"
   ]
  },
  {
   "cell_type": "code",
   "execution_count": 117,
   "metadata": {},
   "outputs": [
    {
     "name": "stdout",
     "output_type": "stream",
     "text": [
      "[1 0]\n"
     ]
    }
   ],
   "source": [
    "mask1 = df[\"category\"] == -1\n",
    "\n",
    "df.loc[mask1, 'category'] = 0\n",
    "print(df[\"category\"].unique())"
   ]
  },
  {
   "cell_type": "code",
   "execution_count": 118,
   "metadata": {},
   "outputs": [
    {
     "name": "stdout",
     "output_type": "stream",
     "text": [
      "(227016, 2)\n"
     ]
    }
   ],
   "source": [
    "new_df = pd.DataFrame()\n",
    "new_df[\"clean_comment\"] = df[\"clean_comment_profane_free\"].copy()\n",
    "new_df[\"category\"] = df[\"category\"].copy()\n",
    "new_df.dropna(inplace=True)\n",
    "\n",
    "print(new_df.shape)"
   ]
  },
  {
   "cell_type": "code",
   "execution_count": 119,
   "metadata": {},
   "outputs": [
    {
     "name": "stdout",
     "output_type": "stream",
     "text": [
      "Index(['clean_comment', 'category'], dtype='object')\n",
      "[1 0]\n",
      "(227016, 2)\n"
     ]
    }
   ],
   "source": [
    "print(new_df.columns)\n",
    "print(new_df.category.unique())\n",
    "print(new_df.shape)"
   ]
  },
  {
   "cell_type": "code",
   "execution_count": 120,
   "metadata": {},
   "outputs": [],
   "source": [
    "X = new_df[\"clean_comment\"].values\n",
    "y = new_df[\"category\"].values\n",
    "y=y.astype('float')"
   ]
  },
  {
   "cell_type": "code",
   "execution_count": 121,
   "metadata": {},
   "outputs": [
    {
     "name": "stdout",
     "output_type": "stream",
     "text": [
      "(227016, 1769186) <class 'scipy.sparse.csr.csr_matrix'>\n"
     ]
    }
   ],
   "source": [
    "vectorizer = TfidfVectorizer(ngram_range=(1,2))\n",
    "vectorizer.fit(X)\n",
    "\n",
    "X = vectorizer.transform(X)\n",
    "\n",
    "print(X.shape, type(X))\n",
    "\n",
    "X_train, X_test, y_train, y_test = train_test_split(X, y, test_size=0.2, random_state=33)\n"
   ]
  },
  {
   "cell_type": "code",
   "execution_count": 124,
   "metadata": {},
   "outputs": [
    {
     "name": "stdout",
     "output_type": "stream",
     "text": [
      "{'alpha': 0.5}\n"
     ]
    }
   ],
   "source": [
    "params = {\n",
    "    'alpha' : [0.45, 0.5, 0.55]\n",
    "}\n",
    "\n",
    "grid_search_cv = GridSearchCV(\n",
    "    estimator = MultinomialNB(),\n",
    "    param_grid = params,\n",
    "    scoring = 'accuracy'\n",
    ")\n",
    "\n",
    "grid_search_cv.fit(X_train, y_train)\n",
    "print(grid_search_cv.best_params_)\n",
    "\n",
    "model = grid_search_cv.best_estimator_"
   ]
  },
  {
   "cell_type": "code",
   "execution_count": 125,
   "metadata": {},
   "outputs": [
    {
     "name": "stdout",
     "output_type": "stream",
     "text": [
      "Model Accuracy: 0.773280\n"
     ]
    },
    {
     "data": {
      "text/plain": [
       "<sklearn.metrics._plot.confusion_matrix.ConfusionMatrixDisplay at 0x1b8ab228c40>"
      ]
     },
     "execution_count": 125,
     "metadata": {},
     "output_type": "execute_result"
    },
    {
     "data": {
      "image/png": "[encoded data removed]",
      "text/plain": [
       "<Figure size 1512x1512 with 2 Axes>"
      ]
     },
     "metadata": {
      "needs_background": "light"
     },
     "output_type": "display_data"
    }
   ],
   "source": [
    "# model = MultinomialNB(alpha=.05)\n",
    "# model.fit(X_train, y_train)\n",
    "\n",
    "y_pred = model.predict(X_test)\n",
    "\n",
    "accuracy = model.score(X_test, y_test)\n",
    "\n",
    "print(\"Model Accuracy: %f\" % accuracy)\n",
    "\n",
    "fig, ax = plt.subplots(figsize=(21, 21))\n",
    "\n",
    "disp = plot_confusion_matrix(model, X_test, y_test,\n",
    "                             display_labels=model.classes_,\n",
    "                             cmap=plt.cm.Blues, ax=ax)\n",
    "\n",
    "plt.xticks(rotation=-25)\n",
    "disp"
   ]
  },
  {
   "cell_type": "code",
   "execution_count": 126,
   "metadata": {},
   "outputs": [
    {
     "name": "stdout",
     "output_type": "stream",
     "text": [
      "hello, my name is kukai and do you want to talk about the one and only god, thighs\n",
      "0.0 0.545\n",
      "1.0 0.455\n",
      "meh, indecisive?\n",
      "I hate you you should delete your twitter account\n",
      "0.0 0.813\n",
      "1.0 0.187\n",
      "REJECT\n",
      "thanks for the recent support.  :)\n",
      "0.0 0.288\n",
      "1.0 0.712\n",
      "ACCEPT\n",
      "imagine being called a CONTENT CREATOR with people donating $5 for everything\n",
      "0.0 0.426\n",
      "1.0 0.574\n",
      "meh, indecisive?\n",
      "cafeteria has new good fries\n",
      "0.0 0.593\n",
      "1.0 0.407\n",
      "meh, indecisive?\n",
      " I hate the new cafeteria french fries\n",
      "0.0 0.749\n",
      "1.0 0.251\n",
      "REJECT\n",
      "fuck\n",
      "0.0 0.554\n",
      "1.0 0.446\n",
      "meh, indecisive?\n"
     ]
    }
   ],
   "source": [
    "my_sentences = [\n",
    "\"\"\"hello, my name is kukai and do you want to talk about the one and only god, thighs\"\"\",\n",
    "\"\"\"I hate you you should delete your twitter account\"\"\",\n",
    "\"\"\"thanks for the recent support.  :)\"\"\",\n",
    "\"\"\"imagine being called a CONTENT CREATOR with people donating $5 for everything\"\"\",\n",
    "\"cafeteria has new good fries\",\n",
    "\" I hate the new cafeteria french fries\",\n",
    "\"fuck\"\n",
    "]\n",
    "\n",
    "for sentence in my_sentences:\n",
    "    print(sentence)\n",
    "    # 1. Apply the text pipeline to your sentence\n",
    "    input_text = text_pipeline2(sentence)\n",
    "    # 2. Transform your cleaned text using the `X = vectorizer.transform([your_text])`\\\n",
    "    input_vec = vectorizer.transform([input_text])\n",
    "    # 3. Use the model to predict your new `X`. \n",
    "    model.predict(input_vec)\n",
    "    # 4. Print the prediction\n",
    "    pp = model.predict_proba(input_vec)\n",
    "    p_val = []\n",
    "    for c, p in zip(model.classes_, pp.round(3)[0]):\n",
    "        p_val.append(p)\n",
    "        print(c, p)\n",
    "    if p_val[0] > 0.65:\n",
    "        print(\"REJECT\")\n",
    "    elif p_val[1] > 0.65:\n",
    "        print(\"ACCEPT\")\n",
    "    else:print(\"meh, indecisive?\")\n",
    "    "
   ]
  }
 ],
 "metadata": {
  "kernelspec": {
   "display_name": "Python 3",
   "language": "python",
   "name": "python3"
  },
  "language_info": {
   "codemirror_mode": {
    "name": "ipython",
    "version": 3
   },
   "file_extension": ".py",
   "mimetype": "text/x-python",
   "name": "python",
   "nbconvert_exporter": "python",
   "pygments_lexer": "ipython3",
   "version": "3.8.3"
  }
 },
 "nbformat": 4,
 "nbformat_minor": 4
}
